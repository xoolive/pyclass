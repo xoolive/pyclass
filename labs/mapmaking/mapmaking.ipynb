{
 "cells": [
  {
   "cell_type": "markdown",
   "metadata": {},
   "source": [
    "# Cartes du monde, cartes de France\n",
    "## *Planisphères et projections*\n",
    "\n",
    "L'objectif de cette séance est de se familiariser avec un format courant de description de contours, le format shapefile, et avec différentes projections couramment utilisées.\n",
    "\n",
    "Plan du notebook:\n",
    "1. [Le format shapefile](#Le-format-shapefile)\n",
    "2. [Coordonnées et projections](#Coordonnées-et-projections)\n",
    "3. [Notions de géodésie avec `pyproj`](#Notions-de-géodésie)\n",
    "4. [Utilisation de la bibliothèque Cartopy](#Utilisation-de-la-bibliothèque-Cartopy)\n",
    "\n",
    "Il est **indispensable** pour la suite d'avoir :\n",
    "- coder la projection Mercator\n",
    "- coder la projection Lambert 93\n",
    "- utiliser la bibliothèque Cartopy\n",
    "\n",
    "Une fois ce minimum accompli, si vous êtes curieux, il est préférable de laisser dans un premier temps les bonus de côté pour voir les notions de géodésie.\n",
    "\n",
    "## Le format shapefile\n",
    "\n",
    "Le site de la commission européenne met à disposition un certain nombre de données géographiques. On y trouve notamment une [page](http://ec.europa.eu/eurostat/fr/web/gisco/geodata/reference-data/administrative-units-statistical-units) permettant de télécharger les contours d'entités administratives, notamment les pays du monde.\n",
    "\n",
    "Le code suivant permet de télécharger et de décompresser une archive fournie sur cette page avec des fichiers Shapefile à l'échelle 1:3000000. Le format shapefile est un format géographique standard qui permet de décrire la géométrie d'objets d'écrits, à base de points, de lignes et de polygones.\n",
    "\n"
   ]
  },
  {
   "cell_type": "code",
   "execution_count": null,
   "metadata": {},
   "outputs": [],
   "source": [
    "%load_ext lab_black"
   ]
  },
  {
   "cell_type": "code",
   "execution_count": null,
   "metadata": {},
   "outputs": [],
   "source": [
    "from io import BytesIO\n",
    "from pathlib import Path\n",
    "from zipfile import ZipFile\n",
    "\n",
    "import requests\n",
    "\n",
    "\n",
    "def download_shapefiles(path_dir: Path):\n",
    "    if path_dir.exists():\n",
    "        return next(path_dir.glob(\"CNTR_RG*4326.shp.zip\"))\n",
    "    url = \"https://gisco-services.ec.europa.eu/distribution/v2/countries/download/ref-countries-2020-03m.shp.zip\"\n",
    "    c = requests.get(url)\n",
    "    c.raise_for_status()\n",
    "    b = BytesIO(c.content)\n",
    "    extraction = ZipFile(b).extractall(\"data\")\n",
    "    return next(path_dir.glob(\"CNTR_RG*4326.shp.zip\"))\n",
    "\n",
    "\n",
    "path_dir = Path(\"data\")\n",
    "shapefile_path = download_shapefiles(path_dir)"
   ]
  },
  {
   "cell_type": "markdown",
   "metadata": {},
   "source": [
    "La bibliothèque `fiona` permet de déchiffrer les fichiers binaires au format shapefile `.shp`.  \n",
    "Observons la structure des données:"
   ]
  },
  {
   "cell_type": "code",
   "execution_count": null,
   "metadata": {
    "scrolled": true
   },
   "outputs": [],
   "source": [
    "import fiona\n",
    "\n",
    "items = [p for p in fiona.open(shapefile_path)]\n",
    "items[0]"
   ]
  },
  {
   "cell_type": "markdown",
   "metadata": {},
   "source": [
    "Chaque élément produit par `fiona.open()` est un élément graphique.  \n",
    "Les données sont présentées sous la forme d'un dictionnaire qui respecte l'arborescence suivante:\n",
    "\n",
    "- `geometry`\n",
    "    - `coordinates`\n",
    "    - `type`\n",
    "- `id`\n",
    "- `properties`\n",
    "- `type`\n",
    "\n",
    "**Note:**\n",
    "\n",
    "- `geometry.type` précise la forme de la donnée géométrique (point, ligne, polygone) parmi un certain nombre de format standards. On recense notamment `Point`, `Polygon`, `LineString` et leur version en liste `MultiPoint`, `MultiPolygon`, `MultiLineString`.\n",
    "- `properties` contient également un dictionnaire pour lequel le modèle de données est libre. Chaque éditeur fournit les informations qu'il souhaite.\n",
    "\n",
    "Parmi les propriétés fournies ici, on trouve un champ `CNTR_ID`, qui évoque *country id*. Ici, `AD` est le code [ISO-3166-1](https://fr.wikipedia.org/wiki/ISO_3166-1) pour  Andorre.\n",
    "\n",
    "Le module `shapely` permet de construire des données géométriques à partir du dictionnaire rendu par `fiona`. La fonction `shape` produit un objet qui est rendu par sa représentation graphique dans le notebook."
   ]
  },
  {
   "cell_type": "code",
   "execution_count": null,
   "metadata": {},
   "outputs": [],
   "source": [
    "import matplotlib.pyplot as plt\n",
    "from shapely.geometry import MultiPolygon, Polygon, shape\n",
    "\n",
    "s = shape(items[0][\"geometry\"])\n",
    "print(type(s))\n",
    "s"
   ]
  },
  {
   "cell_type": "markdown",
   "metadata": {},
   "source": [
    "<div class=\"alert alert-warning\">\n",
    "**Exercice:** Afficher les codes pays des données fournies dans le fichier shapefile donné.\n",
    "</div>\n",
    "\n",
    "_**Consigne:** Utiliser la forme en *compréhension de liste*. Il est « interdit » d'utiliser plus d'une ligne de code pour cet exercice._"
   ]
  },
  {
   "cell_type": "code",
   "execution_count": null,
   "metadata": {
    "tags": []
   },
   "outputs": [],
   "source": [
    "# %load solutions/country_list.py\n"
   ]
  },
  {
   "cell_type": "markdown",
   "metadata": {},
   "source": [
    "<div class=\"alert alert-warning\">\n",
    "**Exercice:** Trouver l'élément géométrique relatif à la Suisse dans les données téléchargées et l'afficher.\n",
    "</div>\n",
    "\n",
    "_**Note:** Pour les plus patriotes qui auraient voulu afficher la France, les territoires d'Outre-Mer rendent l'aperçu peu lisible à l'échelle mondiale. Le choix s'est alors porté sur un pays réputé « neutre »._\n",
    "\n",
    "On peut utiliser la forme en compréhension:\n",
    "```python\n",
    "[i for i in item if i ...]\n",
    "```"
   ]
  },
  {
   "cell_type": "code",
   "execution_count": null,
   "metadata": {
    "tags": []
   },
   "outputs": [],
   "source": [
    "# %load solutions/swiss_shape.py\n"
   ]
  },
  {
   "cell_type": "markdown",
   "metadata": {},
   "source": [
    "Pour la suite, nous allons toutefois afficher manuellement les données avec `matplotlib`.  \n",
    "Nous allons devoir manipuler deux types de données:"
   ]
  },
  {
   "cell_type": "code",
   "execution_count": null,
   "metadata": {},
   "outputs": [],
   "source": [
    "shapes = [shape(i[\"geometry\"]) for i in items if i[\"properties\"][\"CNTR_ID\"] != \"AQ\"]\n",
    "print(set([s.geom_type for s in shapes]))"
   ]
  },
  {
   "cell_type": "markdown",
   "metadata": {},
   "source": [
    "Pour cela, nous allons utiliser les fonctions `add_patch` de `matplotlib` et l'objet `PolygonPatch` qui transforme un polygone shapefile en objet manipulable par `matplotlib`.\n",
    "\n",
    "On notera :\n",
    "\n",
    "- l'accès à l'attribut `geom_type`;\n",
    "- les attributs de `PolygonPatch`: `fc` pour `facecolor`, `ec` pour `edgecolor`, `alpha` pour la transparence, et `zorder` pour le niveau de superposition des données;\n",
    "- les *finitions* en fin de code."
   ]
  },
  {
   "cell_type": "code",
   "execution_count": null,
   "metadata": {},
   "outputs": [],
   "source": [
    "from shapely.plotting import patch_from_polygon\n",
    "\n",
    "fig, ax = plt.subplots(figsize=(20, 10))\n",
    "\n",
    "for s in shapes:\n",
    "    if s.geom_type == \"Polygon\":\n",
    "        s = MultiPolygon([s])\n",
    "    for idx, p in enumerate(s.geoms):\n",
    "        ax.add_patch(patch_from_polygon(p, fc=\"#6699cc\", ec=\"#6699cc\", alpha=0.5, zorder=2))\n",
    "\n",
    "# Finitions\n",
    "ax.axis(\"scaled\")\n",
    "ax.set_frame_on(False)"
   ]
  },
  {
   "cell_type": "markdown",
   "metadata": {},
   "source": [
    "## Coordonnées et projections\n",
    "\n",
    "La carte présentée ci-dessus est déformée/dilatée par rapport à l'image qui nous est familière. *En réalité, c'est aussi une projection, équirectangulaire, appelée *plate carrée*. Sa seule propriété notable est qu'elle permet de retrouver facilement latitude et longitude à partir des coordonnées sur le plan. (sic!)*\n",
    "\n",
    "Les données que nous avons récupérées sont fournies en latitude/longitude dans le référentiel ETRS89. La Terre est modélisée au premier ordre par une sphère, mais les modélisations plus précises font appel à un ellipsoïde de référence. Historiquement, chaque pays maintient son système de référence; en effet, la dérive des continents complique l'utilisation d'un système de référence mondial.\n",
    "\n",
    "Pour les systèmes GPS notamment, un référentiel normalisé mondial a été proposé: le WGS84 (*World Geodetic System 1984*, après 1972, 1964, 1960).  \n",
    "Celui-ci définit pour l'ellipsoïde de référence:\n",
    " - un demi-grand axe $a\t= 6\\,378\\,137\\,m$\n",
    " - un aplatissement $f = 1\\,/\\,298,257\\,223\\,563$\n",
    " \n",
    "Pour les précisions qui nous intéressent dans notre exemple, les systèmes ETRS89 et WGS84 sont compatibles. On va même, pour la suite, pousser jusqu'à considérer que les coordonnées manipulées sont compatibles avec des coordonnées sphériques.\n",
    "\n",
    "\n",
    "Pour afficher une carte à l'écran, on choisit systématiquement une projection, c'est-à-dire une manière de représenter l'information de la surface d'une sphère sur une surface plane.\n",
    "\n",
    "### La projection de Mercator\n",
    "\n",
    "La projection la plus connue est celle de Mercator, qui date du XVIe siècle, utilisée par les marins. C'est une projection *conforme*, qui respecte les angles et les formes. Les méridiens et les parallèles sont des droites perpendiculaires, et la déformation Est-Ouest inhérente à la projection sur un cône est compensée par une déformation Nord-Sud de même ampleur : l'échelle Est-Ouest est toujours de l'ordre de l'échelle Nord-Sud.\n",
    "\n",
    "On peut calculer la projection $(x,y)$ des coordonnées en latitude $\\varphi$ et longitude $\\lambda$ avec les formules suivantes.\n",
    "\n",
    "$$\n",
    "    x = \\lambda\\\\\n",
    "    y = \\ln \\left( \\tan \\varphi + \\sec \\varphi \\right)\n",
    "$$"
   ]
  },
  {
   "cell_type": "markdown",
   "metadata": {},
   "source": [
    "<div class=\"alert alert-warning\">\n",
    "**Exercice:** Afficher la carte précédente en projection de Mercator.\n",
    "</div>\n",
    "\n",
    "_**Consigne:** N'utiliser que des fonctions `numpy` pour garder des temps de calcul raisonnables._\n",
    "\n",
    "- À partir de `p`, l'argument de type `Polygon` passé à `PolygonPatch`, vous pouvez extraire les coordonnées en latitude et en longitude du polygone de la manière suivante:\n",
    "```python\n",
    "    lon = np.array([lon for (lon, _) in list(p.exterior.coords)])\n",
    "    lat = np.array([lat for (_, lat) in list(p.exterior.coords)])\n",
    "```\n",
    "\n",
    "- Une fois votre polygone reconstruit dans le système de coordonnées qui vous convient, vous pouvez reconstruire un `Polygon` à passer en paramètre à `PolygonPatch`:\n",
    "```python\n",
    "    p = Polygon([a for a in zip(x, y)])\n",
    "```\n",
    "\n",
    "- Pour éviter les ennuis près des pôles, éliminez l'Antartique (ISO 3166-1: `AQ`) de vos données."
   ]
  },
  {
   "cell_type": "code",
   "execution_count": null,
   "metadata": {},
   "outputs": [],
   "source": [
    "# %load solutions/mercator.py\n"
   ]
  },
  {
   "cell_type": "markdown",
   "metadata": {},
   "source": [
    "### La projection Lambert 93\n",
    "\n",
    "Beaucoup de projections ne permettent pas d'afficher le globe terrestre dans son intégralité, au moins à cause des discontinuités aux pôles. On trouve notamment des projections qui sont élégantes localement mais beaucoup moins à l'échelle mondiale.\n",
    "\n",
    "Les pilotes aiment cette projection parce qu'à l'échelle où l'on trace ces cartes, une ligne droite entre deux points est proche du grand cercle qui passe par ces deux points. Dans ce système de projection conforme, les méridiens sont des droites concourantes, et les parallèles des arcs de cercle centrés sur le point de convergence des méridiens.\n",
    "\n",
    "\n",
    "La projection Lambert 93 est la projection officielle utilisée pour les cartes de France métropolitaine. Elle utilise deux parallèles sécants $\\varphi_1$ à 44°N, $\\varphi_2$ à 49°N, le méridien de référence $\\lambda_0$ à 3°E et le parallèle d'origine $\\varphi_0$ à 46°30'.\n",
    "\n",
    "On peut calculer la projection $(x,y)$ des coordonnées en latitude $\\varphi$ et longitude $\\lambda$ avec les formules suivantes.\n",
    "\n",
    "\n",
    "$$\n",
    "    x = x_0 + \\rho \\sin(n (\\lambda - \\lambda_0))\\\\\n",
    "    y = y_0 + \\rho_0 - \\rho \\cos(n (\\lambda - \\lambda_0))\n",
    "$$\n",
    "\n",
    "On choisit ici de rester en modèle sphérique pour ne pas trop compliquer l'expression de $n$.\n",
    "\n",
    "$$\n",
    "    n = \\frac{\\ln(\\cos \\varphi_1 \\sec \\varphi_2)}{\\ln (\\tan (\\frac14 \\pi + \\frac12 \\varphi_2) \\cot (\\frac14 \\pi + \\frac12\\varphi_1))}\n",
    "$$\n",
    "\n",
    "Les expressions manquantes sont alors exprimées comme suit.\n",
    "\n",
    "$$\n",
    "    \\rho = F \\cot^{n} (\\tfrac14 \\pi + \\tfrac12 \\varphi)\\\\\n",
    "    \\rho_0 = F \\cot^{n} (\\tfrac14 \\pi + \\tfrac12 \\varphi_0)\\\\\n",
    "    F = R_T \\cdot \\frac{\\cos \\varphi_1 \\tan^{n} (\\frac14 \\pi + \\frac12 \\varphi_1)}{n} \n",
    "$$  \n",
    "\n",
    "Les coordonnées initiales sont de $x_0,y_0$ valent respectivement 700000m et 6600000m. Le rayon de la Terre $R_T$ mesure 6371000 m."
   ]
  },
  {
   "cell_type": "markdown",
   "metadata": {},
   "source": [
    "<div class=\"alert alert-warning\">\n",
    "**Exercice:** Afficher une carte de France (métropole et Corse) et de ses pays frontaliers en projection de Lambert 93.\n",
    "</div>\n",
    "\n",
    "_**Consigne:** N'utiliser que des fonctions `numpy` pour garder des temps de calcul raisonnables._"
   ]
  },
  {
   "cell_type": "code",
   "execution_count": null,
   "metadata": {
    "tags": []
   },
   "outputs": [],
   "source": [
    "# %load solutions/lambert93.py\n"
   ]
  },
  {
   "cell_type": "markdown",
   "metadata": {},
   "source": [
    "### Petits bonus\n",
    "\n",
    "1. Afficher la France dans une couleur différente de ses pays frontaliers;\n",
    "2. Ajouter un graticule (méridiens et parallèles multiples de 5° par exemple);\n",
    "\n",
    "### Gros bonus\n",
    "\n",
    "Les projections présentées ici sont *conformes*: elles conservent les angles et les formes. D'autres projections sont *équivalentes*, c'est-à-dire qu'elles conservent localement les surfaces, mais beaucoup des projections les plus utilisées sont finalement ni conformes, ni équivalentes, mais des compromis.\n",
    "\n",
    "À cet égard, la National Geographic Society a longtemps utilisé la projection Winkel-Tripel, conçue pour minimiser les distorsions de surface, de direction et de distance (d'où le terme allemand de *tripel*). Cette projection est très esthétique et harmonieuse, mais cette harmonie vient à un prix : il n'existe pas de formule exacte pour repasser des coordonnées cartésiennes en $(x,y)$ à des coordonnées en latitude et longitude."
   ]
  },
  {
   "cell_type": "markdown",
   "metadata": {},
   "source": [
    "<div class=\"alert alert-warning\">\n",
    "**Bonus:** Afficher une carte du monde en projection Winkel-Tripel\n",
    "</div>"
   ]
  },
  {
   "cell_type": "code",
   "execution_count": null,
   "metadata": {
    "tags": []
   },
   "outputs": [],
   "source": [
    "# %load solutions/winkel_tripel.py\n"
   ]
  },
  {
   "cell_type": "markdown",
   "metadata": {},
   "source": [
    "# Notions de géodésie\n",
    "\n",
    "La bibliothèque `pyproj` donne accès à des informations sur différentes projections, et également sur des calculs géodésiques.\n",
    "\n",
    "Nous pourrons utiliser les fonctions suivantes pour les calculs les plus courants:\n",
    "\n",
    "- la fonction `Geod.inv` calcule cap, cap inverse et distance entre deux points. Les paramètres sont passés dans l'ordre `lon1`, `lat1`, `lon2`, `lat2`. Si des vecteurs Numpy sont passés en paramètres, des vecteurs NumPy sont retournés"
   ]
  },
  {
   "cell_type": "code",
   "execution_count": null,
   "metadata": {},
   "outputs": [],
   "source": [
    "from pyproj import Geod\n",
    "\n",
    "geod = Geod(ellps=\"WGS84\")\n",
    "\n",
    "# À l'origine, la définition du mille nautique était la distance entre deux minutes d'arc à l'équateur\n",
    "# Néanmoins, aujourd'hui, la conversion est fixée à 1 nm = 1852 meters\n",
    "\n",
    "geod.inv(0, 0, 1 / 60, 0)"
   ]
  },
  {
   "cell_type": "markdown",
   "metadata": {},
   "source": [
    "- la fonction `Geod.fwd` part du point passé en paramètre pour continuer suivant le cap donné pendant une distance fixée;"
   ]
  },
  {
   "cell_type": "code",
   "execution_count": null,
   "metadata": {},
   "outputs": [],
   "source": [
    "# Cap de 0\n",
    "lon, lat, dist = geod.fwd(0, 0, 90, 1855.32)\n",
    "lon * 60"
   ]
  },
  {
   "cell_type": "markdown",
   "metadata": {},
   "source": [
    "- la fonction `Geod.npts` renvoie $n$ échantillons sur le grand cercle (la ligne de plus court chemin) entre deux points."
   ]
  },
  {
   "cell_type": "markdown",
   "metadata": {},
   "source": [
    "- la fonction `Geod.npts` renvoie $n$ échantillons sur le grand cercle (la ligne de plus court chemin entre deux points)"
   ]
  },
  {
   "cell_type": "code",
   "execution_count": null,
   "metadata": {},
   "outputs": [],
   "source": [
    "geod.npts(0, 0, 0, 1/60, npts=50)"
   ]
  },
  {
   "cell_type": "markdown",
   "metadata": {},
   "source": [
    "## Exercice\n",
    "\n",
    "1. On donne les coordonnées des aéroports de Paris (Orly) et Toulouse.\n",
    "\n",
    "    - Calculer la distance entre les deux aéroports à l'aide du module `pyproj`;\n",
    "    - Convertir les coordonnées en Lambert 93 et calculer la distance euclidienne entre les deux aéroports. Comparer."
   ]
  },
  {
   "cell_type": "code",
   "execution_count": null,
   "metadata": {},
   "outputs": [],
   "source": [
    "orly = (48.725278, 2.359444)\n",
    "blagnac = (43.629075, 1.363819)"
   ]
  },
  {
   "cell_type": "code",
   "execution_count": null,
   "metadata": {},
   "outputs": [],
   "source": [
    "# %load solutions/distances.py"
   ]
  },
  {
   "cell_type": "markdown",
   "metadata": {},
   "source": [
    "- La bibliothèque `pyproj` permet également de convertir des coordonnées entre différents systèmes de projection. Le système WGS84 (EPSG:4326) décrit les points à partir des latitudes et des longitudes. À l'aide de la définition de la projection Lambert93 (EPSG:2154), on peut convertir les coordonnées des deux points.\n",
    "\n",
    "  Comparer les résultats entre notre formule de calcul et les résultats de la bibliothèque `pyproj`. Expliquer."
   ]
  },
  {
   "cell_type": "code",
   "execution_count": null,
   "metadata": {},
   "outputs": [],
   "source": [
    "from pyproj import Proj, Transformer\n",
    "\n",
    "transformer = Transformer.from_proj(\n",
    "    Proj(\"epsg:4326\"), Proj(\"epsg:2154\"), always_xy=True\n",
    ")\n",
    "x1, y1 = transformer.transform(orly[1], orly[0])\n",
    "x2, y2 = transformer.transform(blagnac[1], blagnac[0])\n",
    "\n",
    "print(f\"({x1=}, {y1=}), ({x2=}, {y2=})\")\n",
    "distance_proj = ((x1 - x2) ** 2 + (y1 - y2) ** 2) ** 0.5\n",
    "print(f\"{distance_proj=}\")"
   ]
  },
  {
   "cell_type": "markdown",
   "metadata": {},
   "source": [
    "2. Tracer un grand cercle entre les aéroports de Paris Charles de Gaulle et Tokyo Narita (projection de Mercator ou Winkel-Tripel)\n"
   ]
  },
  {
   "cell_type": "code",
   "execution_count": null,
   "metadata": {
    "tags": []
   },
   "outputs": [],
   "source": [
    "cdg = (49.012779, 2.55)\n",
    "tokyo = (35.764722, 140.386389)"
   ]
  },
  {
   "cell_type": "code",
   "execution_count": null,
   "metadata": {
    "tags": []
   },
   "outputs": [],
   "source": [
    "# %load solutions/great_circle.py\n"
   ]
  },
  {
   "cell_type": "markdown",
   "metadata": {},
   "source": [
    "# Utilisation de la bibliothèque Cartopy\n",
    "\n",
    "En pratique, on évite de manipuler manuellement des projections car c'est une source d'erreurs. La bibliothèque `Cartopy` équipe Matplotlib d'outils pour faciliter notre travail.\n",
    "\n",
    "La création d'un système d'axes se fait à l'aide du paramètre `projection`:\n",
    "- soit à la création du système:  \n",
    "  `fig.add_subplot()`,\n",
    "- soit de manière générique sur tous les systèmes d'axes de la figure:  \n",
    "  `fig, ax = fig.subplots(subplot_kw=dict(projection=...))`\n",
    "\n",
    "Le paramètre `transform=` doit-être mentionné à chaque plot, pour préciser les coordonnées du système d'origine. `PlateCarree` correspond au système WGS84, longitude/latitude."
   ]
  },
  {
   "cell_type": "code",
   "execution_count": null,
   "metadata": {},
   "outputs": [],
   "source": [
    "import matplotlib.pyplot as plt\n",
    "from cartopy import crs, feature\n",
    "from matplotlib.transforms import offset_copy\n",
    "\n",
    "fig = plt.figure(figsize=(15, 10))\n",
    "ax1 = fig.add_subplot(131, projection=crs.Mercator())\n",
    "ax2 = fig.add_subplot(132, projection=crs.Orthographic(0, 60))\n",
    "ax4 = fig.add_subplot(133, projection=crs.EuroPP())\n",
    "\n",
    "for ax_ in [ax1, ax2, ax4]:\n",
    "    # Données du projet Natural Earth (disponibles au 10, 50 et 110 millionièmes)\n",
    "    ax_.add_feature(feature.COASTLINE.with_scale(\"50m\"))\n",
    "    ax_.plot( \n",
    "        6.865,\n",
    "        45.832778,\n",
    "        marker=\"o\",\n",
    "        color=\"#f58518\",\n",
    "        transform=crs.PlateCarree(),  # coordonnées en longitude/latitude\n",
    "    )\n",
    "\n",
    "    ax_.set_global()\n",
    "\n",
    "style = dict(fontname=\"Fontin Sans\", fontsize=16, pad=15)\n",
    "ax1.set_title(\"projection=crs.Mercator()\", **style)\n",
    "ax2.set_title(\"projection=crs.Orthographic(0, 60)\", **style)\n",
    "ax4.set_title(\"projection=crs.EuroPP()\", **style)\n",
    "\n",
    "plt.show()"
   ]
  },
  {
   "cell_type": "markdown",
   "metadata": {},
   "source": [
    "<div class=\"alert alert-danger\">\n",
    "Ajuster du texte peut-être un peu plus technique si on veut décaler le texte par rapport aux coordonnées auxquelles le texte se rattache. Le code suivant est fourni pour référence.\n",
    "</div>"
   ]
  },
  {
   "cell_type": "code",
   "execution_count": null,
   "metadata": {},
   "outputs": [],
   "source": [
    "import matplotlib.pyplot as plt\n",
    "from cartopy import crs, feature\n",
    "from matplotlib.transforms import offset_copy\n",
    "\n",
    "fig = plt.figure(figsize=(15, 10))\n",
    "ax1 = fig.add_subplot(131, projection=crs.Mercator())\n",
    "ax2 = fig.add_subplot(132, projection=crs.Orthographic(0, 60))\n",
    "ax4 = fig.add_subplot(133, projection=crs.EuroPP())\n",
    "\n",
    "for ax_ in [ax1, ax2, ax4]:\n",
    "    # Données du projet Natural Earth (disponibles au 10, 50 et 110 millionièmes)\n",
    "    ax_.add_feature(feature.COASTLINE.with_scale(\"50m\"))\n",
    "    ax_.plot(\n",
    "        6.865,\n",
    "        45.832778,\n",
    "        marker=\"o\",\n",
    "        color=\"#f58518\",\n",
    "        transform=crs.PlateCarree(),  # coordonnées en longitude/latitude\n",
    "    )\n",
    "\n",
    "    # On reprend l'opérateur de transformation\n",
    "    geodetic_transform = crs.PlateCarree()._as_mpl_transform(ax_)\n",
    "    # pour y ajouter une opération supplémentaire de décallage sur l'axe des x\n",
    "    text_transform = offset_copy(geodetic_transform, units=\"dots\", x=15)\n",
    "\n",
    "    ax_.text(\n",
    "        6.865,\n",
    "        45.832778,\n",
    "        \"Mont Blanc\",\n",
    "        fontsize=14,\n",
    "        fontname=\"Fira Sans\",\n",
    "        color=\"#f58518\",\n",
    "        bbox=dict(boxstyle=\"round\", facecolor=\"w\", edgecolor=\"#f58518\", lw=2),\n",
    "        transform=text_transform,\n",
    "    )\n",
    "\n",
    "    ax_.set_global()\n",
    "\n",
    "style = dict(fontname=\"Fontin Sans\", fontsize=16, pad=15)\n",
    "ax1.set_title(\"projection=crs.Mercator()\", **style)\n",
    "ax2.set_title(\"projection=crs.Orthographic(0, 60)\", **style)\n",
    "ax4.set_title(\"projection=crs.EuroPP()\", **style)\n",
    "\n",
    "plt.show()"
   ]
  },
  {
   "cell_type": "markdown",
   "metadata": {},
   "source": [
    "## Exercice\n",
    "\n",
    "Les objets `shapely` peuvent être passés sous forme de liste à la fonction  \n",
    "`ax.add_geometries(..., transform=...)`\n",
    "\n",
    "Reconstruire la carte de France en Lambert93 à l'aide de Cartopy.  \n",
    "`from cartes.crs import Lambert93`"
   ]
  },
  {
   "cell_type": "code",
   "execution_count": null,
   "metadata": {},
   "outputs": [],
   "source": [
    "# %load solutions/cartopy_france.py"
   ]
  },
  {
   "cell_type": "code",
   "execution_count": null,
   "metadata": {},
   "outputs": [],
   "source": []
  }
 ],
 "metadata": {
  "kernelspec": {
   "display_name": "Python 3 (ipykernel)",
   "language": "python",
   "name": "python3"
  },
  "language_info": {
   "codemirror_mode": {
    "name": "ipython",
    "version": 3
   },
   "file_extension": ".py",
   "mimetype": "text/x-python",
   "name": "python",
   "nbconvert_exporter": "python",
   "pygments_lexer": "ipython3",
   "version": "3.11.5"
  }
 },
 "nbformat": 4,
 "nbformat_minor": 4
}
