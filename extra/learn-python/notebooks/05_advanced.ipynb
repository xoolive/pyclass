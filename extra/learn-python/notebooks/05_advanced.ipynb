{
 "cells": [
  {
   "cell_type": "markdown",
   "id": "9f61fcc6-4e87-4525-9643-a7552f263a37",
   "metadata": {},
   "source": [
    "# Some advanced features of Python\n",
    "\n",
    "This notebook will be dedicated to some _advanced_ features of Python. Keep in mind that Python is a mind-bogglingly rich language. Throughout these notebooks, we are only scratching the surface of what it can do :o\n",
    "\n",
    "## Table of content\n",
    "- [typing annotations](#Typing-annotations---toc)\n",
    "- [lambda functions](#Lambda-functions---toc)\n",
    "- [nested functions](#Nested-functions---toc)\n",
    "- [recursion](#Recursion---toc)\n",
    "- [dataclasses](#Dataclasses---toc)\n",
    "- [time the execution of a piece of code](#Time-the-execution-of-a-piece-of-code---toc)\n",
    "- [isolating executable code from library code](#Isolating-executable-code-from-library-code---toc)"
   ]
  },
  {
   "cell_type": "markdown",
   "id": "7c18831b-c322-4386-a6c9-05fe0b106892",
   "metadata": {},
   "source": [
    "## Typing annotations - [toc](#Table-of-content)\n",
    "\n",
    "Let's say you want to write a function that computes the mean of a list of integers as a real number. You might write something like the following"
   ]
  },
  {
   "cell_type": "code",
   "execution_count": null,
   "id": "c84da103-2bb7-42df-9132-2a64e8b2f93d",
   "metadata": {},
   "outputs": [],
   "source": [
    "def mean(list_of_ints):\n",
    "    n = len(list_of_ints)\n",
    "    if n == 0:\n",
    "        raise Exception(\"the input list is empty\")\n",
    "\n",
    "    return sum(list_of_ints) / n\n",
    "\n",
    "\n",
    "assert mean([1, 2, 3, 4, 5, 6]) == 3.5"
   ]
  },
  {
   "cell_type": "markdown",
   "id": "7e6f6ee6-03bf-4390-bda0-1984a45cde3d",
   "metadata": {},
   "source": [
    "However, having to write `list_of_ints` for the first argument of `mean` does not look very clean, does it?\n",
    "We have to either\n",
    "- not give any information to the caller of `mean`\n",
    "- write a docstring with the type information\n",
    "- tweak the argument names\n",
    "\n",
    "And also, we don't know the type of the output of `mean`...\n",
    "\n",
    "There is a way to add all this information without any extra comments or weird names! We will use _type annotations_ for that!"
   ]
  },
  {
   "cell_type": "markdown",
   "id": "61baef6d-02d7-4319-963d-adb67ce9b398",
   "metadata": {},
   "source": [
    "A type annotation can be added to variables, function arguments and function return values.\n",
    "They take the following form in general\n",
    "```python\n",
    "a: int = 5  # the value store in the `a` variable is an `int` and has value `5`\n",
    "\n",
    "# the function `f` takes a `float` called `x` and return a `str`\n",
    "def f(x: float) -> str:\n",
    "    return f\"x = {x}\"\n",
    "```\n",
    "\n",
    "> **Note**\n",
    ">\n",
    "> these types are valid Python syntax but won't be checked at _runtime_ (execution time).\n",
    "> giving a `str` to the function `f` above won't give any error unless you use external tools surch a MyPy or PyRight, however, these are out of the scope of this notebook and won't be further mentioned."
   ]
  },
  {
   "cell_type": "markdown",
   "id": "431df6de-ae7d-40c7-900c-2ae59a8ed8b9",
   "metadata": {},
   "source": [
    "Another very useful thing to know about is the `typing` module from the standard pool of modules that come with Python by default and which gives a lot of different types to be used in annotations, e.g. `List`, `Tuple` or `Dict`.\n",
    "\n",
    "Let's rewrite the `mean` function above with proper annotations and argument names!"
   ]
  },
  {
   "cell_type": "code",
   "execution_count": null,
   "id": "e5bbe0a0-3072-49fb-9302-4507abf14522",
   "metadata": {},
   "outputs": [],
   "source": [
    "from typing import List\n",
    "\n",
    "\n",
    "def mean(values: List[int]) -> float:\n",
    "    n = len(values)\n",
    "    if n == 0:\n",
    "        raise Exception(\"the input list is empty\")\n",
    "\n",
    "    return sum(values) / n\n",
    "\n",
    "\n",
    "assert mean([1, 2, 3, 4, 5, 6]) == 3.5"
   ]
  },
  {
   "cell_type": "markdown",
   "id": "6ff2526e-7ff6-4a49-836b-8bf20546786e",
   "metadata": {},
   "source": [
    "Much better, isn't it? By only looking at the signature of the `mean` function, i.e.\n",
    "```python\n",
    "(values: List[int]) -> float\n",
    "```\n",
    "we know that it expects a list of integers and will return a floating number!!"
   ]
  },
  {
   "cell_type": "markdown",
   "id": "5de27028-763f-4dac-859a-93d08de4bb8e",
   "metadata": {},
   "source": [
    "A bonus type, so you can see that it's possible to do really complicated functions with type annotations.\n",
    "\n",
    "Right now, we raise an error if the input list of values is empty...\n",
    "But what if we wanted to return `None` instead to indicate that there is no _mean_ for an empty list?\n",
    "\n",
    "We can use the `Optional` type for that and early return `None` if the list is empty :)"
   ]
  },
  {
   "cell_type": "code",
   "execution_count": null,
   "id": "707f164a-b0cc-4bce-9b48-a2cbeb67ab75",
   "metadata": {},
   "outputs": [],
   "source": [
    "from typing import List, Optional\n",
    "\n",
    "\n",
    "def mean(values: List[int]) -> Optional[float]:\n",
    "    \"\"\" returns `None` if the input is empty \"\"\"\n",
    "    n = len(values)\n",
    "    if n == 0:\n",
    "        return None\n",
    "\n",
    "    return sum(values) / n\n",
    "\n",
    "\n",
    "assert mean([]) is None\n",
    "assert mean([1, 2, 3, 4, 5, 6]) == 3.5"
   ]
  },
  {
   "cell_type": "markdown",
   "id": "fe63d49b-3aad-4ad6-8629-b281409ee9b0",
   "metadata": {},
   "source": [
    "> **Note**\n",
    ">\n",
    "> it's considered good practice to mention the cases where the returned value is `None` in some comment or docstring, so that the caller knows what to expect when calling the function on edge cases!"
   ]
  },
  {
   "cell_type": "markdown",
   "id": "b5587473-5b1f-40b2-afe9-72e41b06f0bd",
   "metadata": {},
   "source": [
    "## Lambda functions - [toc](#Table-of-content)\n",
    "\n",
    "Up until know, all the functions that you have been writing have been using the `def` keyword.\n",
    "However, there is another way to define functions: the `lambda` keyword.\n",
    "\n",
    "> **Note**\n",
    ">\n",
    "> such functions are sometimes called _anonymous_ functions."
   ]
  },
  {
   "cell_type": "markdown",
   "id": "e46db0c9-4fa6-4c45-b0f5-b36fa4aed4a7",
   "metadata": {},
   "source": [
    "A practical use of _lambda_ functions is to write _functional_ Python. (Python is NOT a functional language ;))\n",
    "\n",
    "In such a paradigm, it's very common to use the three functions below\n",
    "- `map` will apply a function to each value of an _iterable_\n",
    "- `filter` will select from an _iterable_ only the values that satisfy a given predicate\n",
    "- `reduce` from the `functools` module will accumulate values from an _iterable_ and produce a single value\n",
    "\n",
    "You can see that all these functions will take functions as arguments, i.e. `map` to apply the function to all elements, `filter` to check whether an element should be discarded or not and `reduce` to accumulate the elements.\n",
    "\n",
    "This is possible because function are _first-class citizens_ in the Python language and thus can be stored in variables, given to functions and returned from functions!"
   ]
  },
  {
   "cell_type": "markdown",
   "id": "35fd0298-ef49-48a9-8f32-e665ad14543c",
   "metadata": {},
   "source": [
    "### Syntax\n",
    "The syntax of _lambda_ functions is the following\n",
    "```python\n",
    "lambda x1, ..., xn: some_expression\n",
    "```\n",
    "where `x1`, ..., `xn` are the arguments of the _lambda_ function and `some_expression` is any expression involving the `x1`, ..., `xn` arguments."
   ]
  },
  {
   "cell_type": "markdown",
   "id": "fb2b4e9c-5896-4068-8f83-4f7a741c5130",
   "metadata": {},
   "source": [
    "### Example\n",
    "Let's say we want to compute the product of the squares of all odd elements from a list of integers.\n",
    "Without the three functions above, you might write something like"
   ]
  },
  {
   "cell_type": "code",
   "execution_count": null,
   "id": "299ff386-a171-4d08-97c6-f7cc272b6c84",
   "metadata": {},
   "outputs": [],
   "source": [
    "values = [1, 2, 3, 4, 5, 6, 7, 8, 9]\n",
    "\n",
    "odd_values = []\n",
    "for v in values:\n",
    "    if v % 2 == 1:\n",
    "        odd_values.append(v)\n",
    "\n",
    "squared_values = []\n",
    "for v in odd_values:\n",
    "    squared_values.append(v ** 2)\n",
    "\n",
    "product = 1\n",
    "for v in squared_values:\n",
    "    product *= v\n",
    "\n",
    "assert product == 893025"
   ]
  },
  {
   "cell_type": "markdown",
   "id": "6f4c3e6b-c81d-4ed0-b4d1-a19948717fff",
   "metadata": {},
   "source": [
    "We can rewrite all this in almost a single line with the `map`, `filter` and `reduce` functions and using _lambda_ functions."
   ]
  },
  {
   "cell_type": "code",
   "execution_count": null,
   "id": "435edf41-c917-4ad4-856e-07c1e7e35aa0",
   "metadata": {},
   "outputs": [],
   "source": [
    "from functools import reduce\n",
    "\n",
    "values = [1, 2, 3, 4, 5, 6, 7, 8, 9]\n",
    "\n",
    "is_odd = lambda x: x % 2 == 1\n",
    "square = lambda x: x * x\n",
    "product = lambda x, y: x * y\n",
    "\n",
    "assert reduce(product, map(square, filter(is_odd, values)), 1) == 893025"
   ]
  },
  {
   "cell_type": "markdown",
   "id": "2f66cf04-e021-4f7a-95b2-4033a66fde8d",
   "metadata": {},
   "source": [
    "Which can be further simplified by passing the _lambda_ functions directly to the functions"
   ]
  },
  {
   "cell_type": "code",
   "execution_count": null,
   "id": "942a7d1e-6e7a-4e4c-a48f-2de04698fc25",
   "metadata": {},
   "outputs": [],
   "source": [
    "from functools import reduce\n",
    "\n",
    "values = [1, 2, 3, 4, 5, 6, 7, 8, 9]\n",
    "\n",
    "assert reduce(\n",
    "    lambda x, y: x * y,\n",
    "    map(\n",
    "        lambda x: x * x,\n",
    "        filter(lambda x: x % 2 == 1, values),\n",
    "    ),\n",
    "    1,\n",
    ") == 893025"
   ]
  },
  {
   "cell_type": "markdown",
   "id": "c912f2ef-a3b3-46c3-b2c3-f8712f526f13",
   "metadata": {},
   "source": [
    "> **Note**\n",
    ">\n",
    "> Python is honestly not the best language to write functional code...\n",
    "> Mostly the fact that `map`, `filter` and `reduce` are functions that take _iterables_ as arguments rather than methods on _iterables_ makes the syntax worse to read.\n",
    ">\n",
    "> Some language allow things like the following, which is arguably much better!\n",
    "> ```rust\n",
    "> values [1, 2, 3, 4, 5, 6, 7, 8, 9]\n",
    "> values\n",
    ">     .filter(lambda x: x % 2 == 1)\n",
    ">     .map(lambda x: x * x)\n",
    ">     .reduce(lambda x, y: x * y, initial=1)\n",
    "> ```\n"
   ]
  },
  {
   "cell_type": "markdown",
   "id": "b517c7bb-08f9-45f5-ba95-728d134597f3",
   "metadata": {},
   "source": [
    "## Nested functions - [toc](#Table-of-content)\n",
    "\n",
    "Sometimes, we write functions that only make sense in some restricted scope, or maybe functions we would like to hide to the outside of our modules.\n",
    "\n",
    "In order to do that, it is possible to _nest_ functions inside other functions!\n",
    "\n",
    "### Example\n",
    "Let's say we want to write a `mean` function again, but where we reimplement the `sum` function ourselves for some reason.\n",
    "However, we don't want to shadow the `sum` function of the scope outside of `mean`!\n",
    "\n",
    "We can use _nested_ functions to achieve that."
   ]
  },
  {
   "cell_type": "code",
   "execution_count": null,
   "id": "246fa44d-4a94-44cd-8090-9c6cfa31e77b",
   "metadata": {},
   "outputs": [],
   "source": [
    "from typing import List, Optional\n",
    "\n",
    "\n",
    "def mean(values: List[int]) -> Optional[float]:\n",
    "    \"\"\" returns `None` if the input is empty \"\"\"\n",
    "    n = len(values)\n",
    "    if n == 0:\n",
    "        return None\n",
    "\n",
    "    def sum(values: List[int]) -> int:\n",
    "        res = 0\n",
    "        for v in values:\n",
    "            res += v\n",
    "        return res\n",
    "\n",
    "    # this line will use the `sum` defined just above\n",
    "    return sum(values) / n\n",
    "\n",
    "\n",
    "assert mean([]) is None\n",
    "assert mean([1, 2, 3, 4, 5, 6]) == 3.5"
   ]
  },
  {
   "cell_type": "markdown",
   "id": "5ca5457a-e401-4e78-b924-5e408ca29276",
   "metadata": {},
   "source": [
    "## Recursion - [toc](#Table-of-content)\n",
    "\n",
    "_Recursion_ is a programming technique where a function will call itself on a slightly different set of arguments until reaching a base case, where the function calls unfold and finally return a value.\n",
    "\n",
    "Some important notes about _recursion_:\n",
    "- the number of times a function can call itself is limited (in some languages implementing _tail recursion optimizations_, that can be worked around, but it's not the case of Python)\n",
    "- you should always make sure each _recursive_ call of the function brings its arguments closer and closer to the base case, otherwise, the _recursive_ stack of calls might never end..."
   ]
  },
  {
   "cell_type": "markdown",
   "id": "a7b37e29-32c7-4101-a6b5-524481863d9b",
   "metadata": {},
   "source": [
    "## Example\n",
    "Let's try to implement the factorial function.\n",
    "\n",
    "The factorial of a number $n$, is the product of all the integers from $1$ to $n$.\n",
    "\n",
    "Following this iterative definition, we might write"
   ]
  },
  {
   "cell_type": "code",
   "execution_count": null,
   "id": "8ec45d8c-4925-4a89-9fc7-bb2e7ff01029",
   "metadata": {},
   "outputs": [],
   "source": [
    "from typing import Callable\n",
    "\n",
    "\n",
    "# test if the function given as input implements the factorial function\n",
    "def test_factorial(f: Callable[[int], int]):\n",
    "    for i, o in [\n",
    "        (0, 1),\n",
    "        (1, 1),\n",
    "        (2, 2),\n",
    "        (3, 6),\n",
    "        (4, 24),\n",
    "    ]:\n",
    "        assert f(i) == o"
   ]
  },
  {
   "cell_type": "code",
   "execution_count": null,
   "id": "3b6f1e6c-1ce1-4d6f-89e2-4e21a726dd5f",
   "metadata": {},
   "outputs": [],
   "source": [
    "def fact_iter(n: int) -> int:\n",
    "    res = 1\n",
    "    for i in range(1, n + 1):\n",
    "        res *= i\n",
    "    return res\n",
    "\n",
    "test_factorial(fact_iter)"
   ]
  },
  {
   "cell_type": "markdown",
   "id": "d3358356-3b4d-4dee-b111-70599ffe3a36",
   "metadata": {},
   "source": [
    "Another definition of the factorial is _recursive_ and tells that the factorial of any positive integer $n$ is equal to $n$ times the factorial of $n - 1$, and the factorial of $0$ is equal to $1$.\n",
    "Let's rewrite the factorial function!"
   ]
  },
  {
   "cell_type": "code",
   "execution_count": null,
   "id": "859cdc4f-20f3-4334-a910-adfcaf091945",
   "metadata": {},
   "outputs": [],
   "source": [
    "def fact_rec(n: int) -> int:\n",
    "    # our base case\n",
    "    if n == 0:\n",
    "        return 1\n",
    "\n",
    "    return n * fact_rec(n - 1)\n",
    "    \n",
    "test_factorial(fact_rec)"
   ]
  },
  {
   "cell_type": "markdown",
   "id": "9b53cd59-9c5e-4417-a418-9b03823bdbd3",
   "metadata": {},
   "source": [
    "Finally, if we want to raise an error in case the input number is negative, without checking that at each _recursive_ call, we can use a neste _auxiliary_ function :)"
   ]
  },
  {
   "cell_type": "code",
   "execution_count": null,
   "id": "9cea8eb9-57c0-4644-9ed7-7c0749719b65",
   "metadata": {},
   "outputs": [],
   "source": [
    "def fact_rec(n: int) -> int:\n",
    "    if n < 0:\n",
    "        raise Exception(f\"n should be positive, found {n}\")\n",
    "\n",
    "    def aux(n: int) -> int:\n",
    "        # our base case\n",
    "        if n == 0:\n",
    "            return 1\n",
    "\n",
    "        return n * fact_rec(n - 1)\n",
    "\n",
    "    return aux(n)\n",
    "    \n",
    "test_factorial(fact_rec)\n",
    "\n",
    "try:\n",
    "    fact_rec(-42)\n",
    "except Exception as e:\n",
    "    print(e)"
   ]
  },
  {
   "cell_type": "markdown",
   "id": "898901ba-b0ba-43cf-baa8-07f77a73503c",
   "metadata": {},
   "source": [
    "## Dataclasses - [toc](#Table-of-content)\n",
    "\n",
    "When writing classes, one almost always has to write an `__init__` and a `__repr__` method.\n",
    "When these methods are simply listing all the fields of the class, then it's quite tideous to write them...\n",
    "And we don't like tideous!\n",
    "\n",
    "_Dataclasses_ are a powerful tool to simplify the writing of classes :)\n",
    "\n",
    "### Example\n",
    "Let's write a very simple 3D vector class, which will have `x`, `y` and `z` as it's coordinates and will be represented as `(x, y, z)`."
   ]
  },
  {
   "cell_type": "code",
   "execution_count": null,
   "id": "0c7adf56-c131-4421-95c0-5d643efc6e68",
   "metadata": {},
   "outputs": [],
   "source": [
    "class Vec:\n",
    "    def __init__(self, x: float, y: float, z: float):\n",
    "        self.x = x\n",
    "        self.y = y\n",
    "        self.z = z\n",
    "    def __repr__(self) -> str:\n",
    "        return f\"({self.x}, {self.y}, {self.z})\"\n",
    "\n",
    "\n",
    "v = Vec(1, 2, 3)\n",
    "print(f\"v = {v}\")"
   ]
  },
  {
   "cell_type": "markdown",
   "id": "78ad38df-4e3d-4119-b431-e40b7c4b88a2",
   "metadata": {},
   "source": [
    "And now, with _dataclasses_, we can greatly simplify this boilerplate code!"
   ]
  },
  {
   "cell_type": "code",
   "execution_count": null,
   "id": "c4a9030d-a700-4766-bf19-238d110c4d8d",
   "metadata": {},
   "outputs": [],
   "source": [
    "from dataclasses import dataclass\n",
    "\n",
    "\n",
    "@dataclass\n",
    "class Vec:\n",
    "    x: float\n",
    "    y: float\n",
    "    z: float\n",
    "\n",
    "\n",
    "v = Vec(1, 2, 3)\n",
    "print(f\"v = {v}\")"
   ]
  },
  {
   "cell_type": "markdown",
   "id": "4fe042ec-d6ef-4b2b-81be-9a2b8bcc6bfc",
   "metadata": {},
   "source": [
    "## Time the execution of a piece of code - [toc](#Table-of-content) \n",
    "\n",
    "Sometimes, we would like to measure the time it takes certain functions to run. This is quite simple with the `time` function from the `time` builtin module of Python.\n",
    "\n",
    "Let's say we have defined a function `f` earlier that takes an integer argument `n`, e.g. the function that computes the sum of the first $n$ integers $n \\mapsto \\sum\\limits_{k=1}^n k^2$.\n",
    "\n",
    "Let's measure the time it takes to run this function on a few inputs:"
   ]
  },
  {
   "cell_type": "code",
   "execution_count": null,
   "id": "e4fb48af-5912-4edb-9203-f15758271dfd",
   "metadata": {},
   "outputs": [],
   "source": [
    "def f(n: int) -> int:\n",
    "    return sum(i * i for i in range(1, n + 1))"
   ]
  },
  {
   "cell_type": "code",
   "execution_count": null,
   "id": "16705f37-e125-496d-baf1-5102f054b932",
   "metadata": {},
   "outputs": [],
   "source": [
    "from time import time\n",
    "\n",
    "for n in range(25):\n",
    "    start_time = time()\n",
    "    f(2**n)\n",
    "    elapsed = time() - start_time\n",
    "    print(f\"f({2**n}) took {elapsed}s\")"
   ]
  },
  {
   "cell_type": "markdown",
   "id": "ab3ec547-bd7b-4153-8b2b-07e63c08b582",
   "metadata": {},
   "source": [
    "## Isolating executable code from library code - [toc](#Table-of-content)\n",
    "\n",
    "An important distinction can be made between _executable code_ and _library code_:\n",
    "- the former is code that will be executed as soon as you interpret a Python module\n",
    "- the latter is code that one wants to expose to the outside world but that should not run anything, only the _importer_ of the library will run the code when they want.\n",
    "\n",
    "In this section we will see what you should do and what you should NOT do when you want to run code next to library code that needs to be exported and used elsewhere.\n",
    "A concrete example of this in the following classes will be writing functions that (1) you want to test and debug in the same module as where they are defined and (2) will be exported and run separately in tests.\n",
    "\n",
    "As an example, let's say we write a function that computes the sum of the first $n$ squares of integers. We want to define a function that does that and also measure the performance of our function on large values of $n$, in the same Python module.\n",
    "\n",
    "The naive way would be to do as in [naive-module.py](../src/naive-module.py), i.e. put the code just next to the function.\n",
    "\n",
    "Let's run it."
   ]
  },
  {
   "cell_type": "code",
   "execution_count": null,
   "id": "24378514-a15b-4802-a7a5-9e18f7b36dde",
   "metadata": {},
   "outputs": [],
   "source": [
    "# don't worry about the next two lines\n",
    "import sys\n",
    "sys.path.append('../src/')"
   ]
  },
  {
   "cell_type": "code",
   "execution_count": null,
   "id": "9d9238f0-731e-485e-bb46-d6556150fb65",
   "metadata": {},
   "outputs": [],
   "source": [
    "import naive_module\n",
    "print(naive_module.sum_of_ints(10))"
   ]
  },
  {
   "cell_type": "markdown",
   "id": "9ba429c8-716e-40d4-a1d8-6294e5eba14a",
   "metadata": {},
   "source": [
    "What just happened? Is this desirable if we just want to use the `sum_of_ints` function directly?"
   ]
  },
  {
   "cell_type": "markdown",
   "id": "a7d23615-f563-48dc-9308-cd8375a8a772",
   "metadata": {},
   "source": [
    "Another thing with this _naive_ module is that, now, we can access to the internal import of the `time` function from the `time` library!"
   ]
  },
  {
   "cell_type": "code",
   "execution_count": null,
   "id": "b4492425-5410-4dcd-a622-644fa2dee543",
   "metadata": {},
   "outputs": [],
   "source": [
    "print(\"current time:\", naive_module.time())"
   ]
  },
  {
   "cell_type": "markdown",
   "id": "9c30414e-1cfa-4c34-8a33-0e91d1e23f3f",
   "metadata": {},
   "source": [
    "In Python, we can use a special block of code that we will call _main block_ in the rest of these classes.\n",
    "\n",
    "It is considered good practice to use these and the syntax is the following:"
   ]
  },
  {
   "cell_type": "code",
   "execution_count": null,
   "id": "b6ca6a0a-3ffb-455f-abe0-9435a1e916b7",
   "metadata": {},
   "outputs": [],
   "source": [
    "if __name__ == \"__main__\":\n",
    "    print(\"i am main!\")"
   ]
  },
  {
   "cell_type": "markdown",
   "id": "30d88b67-70a1-43a4-8889-b64d70a4a6e6",
   "metadata": {},
   "source": [
    "Now, let's run the same code as before, but with the [module_with_main.py](../src/module_with_main.py) module"
   ]
  },
  {
   "cell_type": "code",
   "execution_count": null,
   "id": "8130ff28-beef-43e9-9f1f-069156bec09f",
   "metadata": {},
   "outputs": [],
   "source": [
    "import module_with_main\n",
    "\n",
    "print(module_with_main.sum_of_ints(10))"
   ]
  },
  {
   "cell_type": "markdown",
   "id": "0b39fc18-a503-456c-ac6a-6c8b13b51cf6",
   "metadata": {},
   "source": [
    "Now, the code runs directly without the internal performance measurements!\n",
    "\n",
    "And we also can't access the internal `time` function anymore!"
   ]
  },
  {
   "cell_type": "code",
   "execution_count": null,
   "id": "051ac5e2-40b7-4091-b846-570e46cdf6db",
   "metadata": {},
   "outputs": [],
   "source": [
    "print(\"current time:\", module_with_main.time())"
   ]
  }
 ],
 "metadata": {
  "kernelspec": {
   "display_name": "Python 3 (ipykernel)",
   "language": "python",
   "name": "python3"
  },
  "language_info": {
   "codemirror_mode": {
    "name": "ipython",
    "version": 3
   },
   "file_extension": ".py",
   "mimetype": "text/x-python",
   "name": "python",
   "nbconvert_exporter": "python",
   "pygments_lexer": "ipython3",
   "version": "3.10.12"
  }
 },
 "nbformat": 4,
 "nbformat_minor": 5
}
