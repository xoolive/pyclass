{
 "cells": [
  {
   "cell_type": "markdown",
   "metadata": {},
   "source": [
    "# JSON and CSV Notebook"
   ]
  },
  {
   "cell_type": "markdown",
   "metadata": {},
   "source": [
    "## The objective of the first part of this notebook is to discover JSON and how to manage JSON files in Python."
   ]
  },
  {
   "cell_type": "markdown",
   "metadata": {},
   "source": [
    "What is JSON?\n",
    "\n",
    "* JSON stands for JavaScript Object Notation\n",
    "* JSON is a lightweight data-interchange format \n",
    "* JSON is \"self-describing\" and easy to understand\n",
    "* JSON is language independent\n",
    "\n",
    "Note that JSON uses JavaScript syntax, but the JSON format is text only, just like XML.\n",
    "Text can be read and used as a data format by any programming language.\n"
   ]
  },
  {
   "cell_type": "markdown",
   "metadata": {},
   "source": [
    "First of all, take a look on the wikipedia links :  https://en.wikipedia.org/wiki/JSON \n",
    "Please, don't spend too much time !       "
   ]
  },
  {
   "cell_type": "markdown",
   "metadata": {},
   "source": [
    "As you have understood, JSON is a format to easily represent data. An example of JSON data is given below :"
   ]
  },
  {
   "cell_type": "markdown",
   "metadata": {},
   "source": [
    "{\n",
    "        \"city\": \"New Dehli\", \n",
    "        \"name\": \"Kumar\",\n",
    "        \"age\" : \"21\"\n",
    "}"
   ]
  },
  {
   "cell_type": "markdown",
   "metadata": {},
   "source": [
    "Consider the (Python) string associated to these data :"
   ]
  },
  {
   "cell_type": "code",
   "execution_count": null,
   "metadata": {
    "collapsed": false,
    "jupyter": {
     "outputs_hidden": false
    }
   },
   "outputs": [],
   "source": [
    "json_string = '{\"name\": \"Kumar\",\"city\": \"New Dehli\",\"age\" : \"21\"}'"
   ]
  },
  {
   "cell_type": "markdown",
   "metadata": {},
   "source": [
    "You can transform this string as a dictionary by loading it with the json Python library. Do not forget to import the library :"
   ]
  },
  {
   "cell_type": "code",
   "execution_count": null,
   "metadata": {
    "collapsed": false,
    "jupyter": {
     "outputs_hidden": false
    }
   },
   "outputs": [],
   "source": [
    "import json\n",
    "parsed_json = json.loads(json_string)\n",
    "#print(...)"
   ]
  },
  {
   "cell_type": "markdown",
   "metadata": {},
   "source": [
    "Write the command to access to the values of this dictionary :"
   ]
  },
  {
   "cell_type": "code",
   "execution_count": null,
   "metadata": {
    "collapsed": false,
    "jupyter": {
     "outputs_hidden": false
    }
   },
   "outputs": [],
   "source": [
    "#"
   ]
  },
  {
   "cell_type": "markdown",
   "metadata": {},
   "source": [
    "Now, let us load the data from a file. Please, download the file on the lms. \n",
    "We first need to open the file, tranform it as a string and then to load it as json file.   "
   ]
  },
  {
   "cell_type": "code",
   "execution_count": null,
   "metadata": {
    "collapsed": false,
    "jupyter": {
     "outputs_hidden": false
    }
   },
   "outputs": [],
   "source": [
    "data_file = open('../data/example.json')\n",
    "json_string = data_file.read()\n",
    "data = json.loads(json_string)"
   ]
  },
  {
   "cell_type": "markdown",
   "metadata": {
    "collapsed": true,
    "jupyter": {
     "outputs_hidden": true
    }
   },
   "source": [
    "Print data and analyse it. Can you recognize a dictionary structure ? Print the data associated to the key. "
   ]
  },
  {
   "cell_type": "code",
   "execution_count": null,
   "metadata": {
    "collapsed": false,
    "jupyter": {
     "outputs_hidden": false
    }
   },
   "outputs": [],
   "source": [
    "#print(...)"
   ]
  },
  {
   "cell_type": "markdown",
   "metadata": {},
   "source": [
    "You can observe that the data associated to this key is a list. Print the entries of the list.  "
   ]
  },
  {
   "cell_type": "code",
   "execution_count": null,
   "metadata": {
    "collapsed": false,
    "jupyter": {
     "outputs_hidden": false
    }
   },
   "outputs": [],
   "source": [
    "#"
   ]
  },
  {
   "cell_type": "markdown",
   "metadata": {},
   "source": [
    "Thus, you can observe that each entry of the list is a dictionary. Print the value associated to the key 'city' for all entries."
   ]
  },
  {
   "cell_type": "code",
   "execution_count": null,
   "metadata": {
    "collapsed": false,
    "jupyter": {
     "outputs_hidden": false
    }
   },
   "outputs": [],
   "source": [
    "#"
   ]
  },
  {
   "cell_type": "markdown",
   "metadata": {},
   "source": [
    "Fine !! Now, you should have undestood how to enter into the json structures :) Let's come back to the LMS to move to a bigger example"
   ]
  },
  {
   "cell_type": "markdown",
   "metadata": {},
   "source": [
    "## The next part of this notebook will be dedicated to another famous file format, used for tabular data: CSV\n",
    "\n",
    "As often with Python, there is already a module, even builtin, that will take care of reading CSV files for us!\n",
    "\n",
    "The idea of a CSV file is the following\n",
    "- the first row contains the name of the columns\n",
    "- each one of the following rows is a row in the data and should contain as many values as there are columns, separated by commas (`,`)\n",
    "\n",
    "> **Note**\n",
    ">\n",
    "> variants of CSV where the separator is not a comma could be easily used instead!\n",
    "\n",
    "Each row of the data can then be represented as a dictionary where\n",
    "- all the keys are the columns given by the first row of the CSV file\n",
    "- all the values are the values in the appropriate row in the CSV file\n",
    "\n",
    "The Python snippet below will read the `example.csv` file in the `data/` directory and store the results in a `data` variable as a list of dictionaries."
   ]
  },
  {
   "cell_type": "code",
   "execution_count": null,
   "metadata": {},
   "outputs": [],
   "source": [
    "import csv\n",
    "\n",
    "with open('../data/example.csv', newline='') as handle:\n",
    "    data = list(csv.DictReader(handle))"
   ]
  },
  {
   "cell_type": "markdown",
   "metadata": {},
   "source": [
    "How many rows are there in the data?"
   ]
  },
  {
   "cell_type": "code",
   "execution_count": null,
   "metadata": {},
   "outputs": [],
   "source": [
    "#"
   ]
  },
  {
   "cell_type": "markdown",
   "metadata": {},
   "source": [
    "What are the columns of the data?"
   ]
  },
  {
   "cell_type": "code",
   "execution_count": null,
   "metadata": {},
   "outputs": [],
   "source": [
    "#"
   ]
  }
 ],
 "metadata": {
  "kernelspec": {
   "display_name": "Python 3 (ipykernel)",
   "language": "python",
   "name": "python3"
  },
  "language_info": {
   "codemirror_mode": {
    "name": "ipython",
    "version": 3
   },
   "file_extension": ".py",
   "mimetype": "text/x-python",
   "name": "python",
   "nbconvert_exporter": "python",
   "pygments_lexer": "ipython3",
   "version": "3.10.12"
  }
 },
 "nbformat": 4,
 "nbformat_minor": 4
}
